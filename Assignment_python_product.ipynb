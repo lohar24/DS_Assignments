{
  "cells": [
    {
      "cell_type": "code",
      "execution_count": null,
      "metadata": {
        "colab": {
          "background_save": true,
          "base_uri": "https://localhost:8080/"
        },
        "id": "IMvjAE1TNBWM",
        "outputId": "b9a96137-9bab-4bf5-e2d1-2bfb82e10bfc"
      },
      "outputs": [
        {
          "name": "stdout",
          "output_type": "stream",
          "text": [
            "First random number: 21\n",
            "Second random number: 60\n"
          ]
        }
      ],
      "source": [
        "# Program to generate random numbers and checking product entered by user is correct or wrong\n",
        "# importing necessary library\n",
        "import random\n",
        "\n",
        "# Generate two random numbers\n",
        "num1 = random.randint(1, 100)\n",
        "num2 = random.randint(1, 100)\n",
        "\n",
        "# Print the numbers and their product\n",
        "print(\"First random number:\", num1)\n",
        "print(\"Second random number:\", num2)\n",
        "\n",
        "# Defining a function to check product enetered by user is coorect\n",
        "def product(x):\n",
        "    print(\"Product:\",num1*num2)\n",
        "    if(x== (num1*num2)):\n",
        "      return \"your product guess is correct\"\n",
        "    else:\n",
        "      return \"your product guess is wrong\"\n",
        "\n",
        "# Taking input from the user\n",
        "number = int(input(\"Enter a product of above two random numbers: \"))\n",
        "\n",
        "# Calling a function to check entered product guess is correct or wrong\n",
        "product(number)"
      ]
    }
  ],
  "metadata": {
    "colab": {
      "provenance": []
    },
    "kernelspec": {
      "display_name": "Python 3",
      "name": "python3"
    },
    "language_info": {
      "name": "python"
    }
  },
  "nbformat": 4,
  "nbformat_minor": 0
}