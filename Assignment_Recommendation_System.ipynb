{
  "nbformat": 4,
  "nbformat_minor": 0,
  "metadata": {
    "colab": {
      "provenance": []
    },
    "kernelspec": {
      "name": "python3",
      "display_name": "Python 3"
    },
    "language_info": {
      "name": "python"
    }
  },
  "cells": [
    {
      "cell_type": "code",
      "execution_count": 41,
      "metadata": {
        "colab": {
          "base_uri": "https://localhost:8080/"
        },
        "id": "NrolBRt5ZHGh",
        "outputId": "22687a36-d3d5-4a8a-f214-cac426b4b4ec"
      },
      "outputs": [
        {
          "output_type": "stream",
          "name": "stdout",
          "text": [
            "<class 'pandas.core.frame.DataFrame'>\n",
            "RangeIndex: 12294 entries, 0 to 12293\n",
            "Data columns (total 7 columns):\n",
            " #   Column    Non-Null Count  Dtype  \n",
            "---  ------    --------------  -----  \n",
            " 0   anime_id  12294 non-null  int64  \n",
            " 1   name      12294 non-null  object \n",
            " 2   genre     12232 non-null  object \n",
            " 3   type      12269 non-null  object \n",
            " 4   episodes  12294 non-null  object \n",
            " 5   rating    12064 non-null  float64\n",
            " 6   members   12294 non-null  int64  \n",
            "dtypes: float64(1), int64(2), object(4)\n",
            "memory usage: 672.5+ KB\n",
            "None\n",
            "   anime_id                              name  \\\n",
            "0     32281                    Kimi no Na wa.   \n",
            "1      5114  Fullmetal Alchemist: Brotherhood   \n",
            "2     28977                          Gintama°   \n",
            "3      9253                       Steins;Gate   \n",
            "4      9969                     Gintama&#039;   \n",
            "\n",
            "                                               genre   type episodes  rating  \\\n",
            "0               Drama, Romance, School, Supernatural  Movie        1    9.37   \n",
            "1  Action, Adventure, Drama, Fantasy, Magic, Mili...     TV       64    9.26   \n",
            "2  Action, Comedy, Historical, Parody, Samurai, S...     TV       51    9.25   \n",
            "3                                   Sci-Fi, Thriller     TV       24    9.17   \n",
            "4  Action, Comedy, Historical, Parody, Samurai, S...     TV       51    9.16   \n",
            "\n",
            "   members  \n",
            "0   200630  \n",
            "1   793665  \n",
            "2   114262  \n",
            "3   673572  \n",
            "4   151266  \n"
          ]
        },
        {
          "output_type": "stream",
          "name": "stderr",
          "text": [
            "/usr/local/lib/python3.10/dist-packages/sklearn/feature_extraction/text.py:528: UserWarning: The parameter 'token_pattern' will not be used since 'tokenizer' is not None'\n",
            "  warnings.warn(\n"
          ]
        }
      ],
      "source": [
        "import pandas as pd\n",
        "from sklearn.preprocessing import StandardScaler\n",
        "from sklearn.feature_extraction.text import TfidfVectorizer\n",
        "\n",
        "# Load the dataset\n",
        "anime_data = pd.read_csv('/content/anime.csv')\n",
        "\n",
        "# Display basic info about the dataset\n",
        "print(anime_data.info())\n",
        "\n",
        "# Handle missing values (if any)\n",
        "anime_data = anime_data.dropna()  # For simplicity, drop rows with any missing values\n",
        "# Display basic information about the dataset\n",
        "print(anime_data.head())\n",
        "# Convert genres into a format that is suitable for cosine similarity\n",
        "tfidf = TfidfVectorizer(tokenizer=lambda x: x.split(', '))\n",
        "genre_matrix = tfidf.fit_transform(anime_data['genre'])"
      ]
    },
    {
      "cell_type": "code",
      "source": [
        "# Feature selection and preprocessing\n",
        "selected_features = ['genre', 'rating', 'members']\n",
        "\n",
        "# Convert categorical features into numerical representations\n",
        "# One-hot encoding for genre (if necessary)\n",
        "#anime_data = pd.get_dummies(anime_data, columns=['genre'])\n",
        "print(anime_data.columns)\n",
        "# Normalize numerical features\n",
        "scaler = StandardScaler()\n",
        "anime_data[['rating', 'members']] = scaler.fit_transform(anime_data[['rating', 'members']])"
      ],
      "metadata": {
        "colab": {
          "base_uri": "https://localhost:8080/"
        },
        "id": "-EROxH1MupPN",
        "outputId": "2157193e-1635-44be-80e4-d1333ccb6739"
      },
      "execution_count": 42,
      "outputs": [
        {
          "output_type": "stream",
          "name": "stdout",
          "text": [
            "Index(['anime_id', 'name', 'genre', 'type', 'episodes', 'rating', 'members'], dtype='object')\n"
          ]
        }
      ]
    },
    {
      "cell_type": "code",
      "source": [
        "from sklearn.metrics.pairwise import cosine_similarity\n",
        "\n",
        "def recommend_anime(anime_title, anime_data, genre_matrix, threshold=0.5, top_n=5):\n",
        "    try:\n",
        "        # Filter anime_data for the given anime_title\n",
        "        anime_entry = anime_data[anime_data['name'] == anime_title]\n",
        "\n",
        "        if anime_entry.empty:\n",
        "            print(f'Anime \"{anime_title}\" not found in dataset.')\n",
        "            return []\n",
        "\n",
        "        # Get the index of the anime_entry\n",
        "        idx = anime_entry.index[0]\n",
        "\n",
        "        # Compute cosine similarity with genre_matrix and other features\n",
        "        genre_similarity = cosine_similarity(genre_matrix[idx], genre_matrix)\n",
        "        numerical_features = anime_data[['rating', 'members']].values\n",
        "        numerical_similarity = cosine_similarity([anime_entry[['rating', 'members']].values[0]], numerical_features)\n",
        "\n",
        "        # Combine genre similarity and numerical similarity (adjust weights if necessary)\n",
        "        combined_similarity = 0.5 * genre_similarity + 0.5 * numerical_similarity\n",
        "\n",
        "        # Get similarity scores with other anime\n",
        "        sim_scores = list(enumerate(combined_similarity[0]))\n",
        "\n",
        "        # Sort anime based on similarity scores\n",
        "        sim_scores = sorted(sim_scores, key=lambda x: x[1], reverse=True)\n",
        "\n",
        "        # Select anime with similarity above threshold\n",
        "        sim_scores = [x for x in sim_scores if x[1] > threshold]\n",
        "\n",
        "        # Get indices of the top similar anime (excluding the target itself)\n",
        "        sim_indices = [i for i, _ in sim_scores if i != idx]\n",
        "\n",
        "        # Return the top N most similar anime names\n",
        "        return anime_data['name'].iloc[sim_indices].head(top_n).tolist()\n",
        "\n",
        "    except IndexError as e:\n",
        "        print(f'IndexError: {e}')\n",
        "        return []\n",
        "    except Exception as e:\n",
        "        print(f'Error: {e}')\n",
        "        return []\n",
        "\n",
        "# Example usage of the recommendation system function\n",
        "anime_title = 'Naruto'\n",
        "recommendations = recommend_anime(anime_title, anime_data, genre_matrix, threshold=0.3, top_n=10)\n",
        "print(f'Recommendations for \"{anime_title}\":')\n",
        "print(recommendations)"
      ],
      "metadata": {
        "colab": {
          "base_uri": "https://localhost:8080/"
        },
        "id": "mDuPY6XUrCZx",
        "outputId": "10d21475-5351-4368-e65d-13f23b03cc0d"
      },
      "execution_count": 43,
      "outputs": [
        {
          "output_type": "stream",
          "name": "stdout",
          "text": [
            "Recommendations for \"Naruto\":\n",
            "['Naruto: Shippuuden', 'Dragon Ball Z', 'Naruto: Shippuuden Movie 3 - Hi no Ishi wo Tsugu Mono', 'Dragon Ball Super', 'Dragon Ball', 'Naruto: Shippuuden Movie 4 - The Lost Tower', 'Dragon Ball Z Movie 11: Super Senshi Gekiha!! Katsu no wa Ore da', 'Tenjou Tenge', 'Medaka Box', 'Katekyo Hitman Reborn!']\n"
          ]
        }
      ]
    },
    {
      "cell_type": "code",
      "source": [
        "# splitting data\n",
        "from sklearn.model_selection import train_test_split\n",
        "\n",
        "# Assuming anime_data and genre_matrix are already defined and processed\n",
        "\n",
        "# Split dataset into training and testing sets\n",
        "train_data, test_data = train_test_split(anime_data, test_size=0.2, random_state=42)\n",
        "# List all column names to check for the presence of 'recommendations'\n",
        "print(test_data.columns)\n",
        "\n",
        "\n",
        "\n",
        "print(f\"Number of records in training set: {len(train_data)}\")\n",
        "print(f\"Number of records in testing set: {len(test_data)}\")\n",
        "# Check for missing values in test_data\n",
        "print(test_data.isnull().sum())"
      ],
      "metadata": {
        "colab": {
          "base_uri": "https://localhost:8080/"
        },
        "id": "uALKf3KOtDrU",
        "outputId": "55d77a23-0c63-401b-f1d2-4a166bdcb453"
      },
      "execution_count": 58,
      "outputs": [
        {
          "output_type": "stream",
          "name": "stdout",
          "text": [
            "Index(['anime_id', 'name', 'genre', 'type', 'episodes', 'rating', 'members'], dtype='object')\n",
            "Number of records in training set: 9613\n",
            "Number of records in testing set: 2404\n",
            "anime_id    0\n",
            "name        0\n",
            "genre       0\n",
            "type        0\n",
            "episodes    0\n",
            "rating      0\n",
            "members     0\n",
            "dtype: int64\n"
          ]
        }
      ]
    },
    {
      "cell_type": "code",
      "source": [
        "# Check anime_data\n",
        "print(\"Anime Data:\")\n",
        "print(anime_data.columns)\n",
        "print(anime_data.dtypes)\n",
        "print(anime_data.isnull().sum())\n",
        "\n",
        "# Check genre_matrix\n",
        "print(\"\\nGenre Matrix:\")\n",
        "print(genre_matrix.shape)  # Verify shape\n",
        "print(genre_matrix[:5, :])  # Print sample rows\n",
        "\n",
        "# Check test_data\n",
        "print(\"\\nTest Data:\")\n",
        "print(test_data.columns)\n",
        "print(test_data.dtypes)\n",
        "print(test_data.isnull().sum())\n",
        "\n",
        "# Example of debugging IndexError\n",
        "try:\n",
        "    # Code that may raise IndexError\n",
        "    avg_precision, avg_recall, avg_f1 = evaluate_recommendation_system(test_data, anime_data, genre_matrix, recommend_anime, top_n=10)\n",
        "    print(f\"Precision: {avg_precision:.2f}\")\n",
        "    print(f\"Recall: {avg_recall:.2f}\")\n",
        "    print(f\"F1-score: {avg_f1:.2f}\")\n",
        "except IndexError as e:\n",
        "    print(f\"IndexError occurred during evaluation: {e}\")\n",
        "except Exception as e:\n",
        "    print(f\"Error occurred during evaluation: {e}\")"
      ],
      "metadata": {
        "colab": {
          "base_uri": "https://localhost:8080/"
        },
        "id": "dZS309zz6Ozp",
        "outputId": "f4567719-2494-4a6f-b3d6-9063cc86ee86"
      },
      "execution_count": 61,
      "outputs": [
        {
          "output_type": "stream",
          "name": "stdout",
          "text": [
            "Anime Data:\n",
            "Index(['anime_id', 'name', 'genre', 'type', 'episodes', 'rating', 'members'], dtype='object')\n",
            "anime_id      int64\n",
            "name         object\n",
            "genre        object\n",
            "type         object\n",
            "episodes     object\n",
            "rating      float64\n",
            "members     float64\n",
            "dtype: object\n",
            "anime_id    0\n",
            "name        0\n",
            "genre       0\n",
            "type        0\n",
            "episodes    0\n",
            "rating      0\n",
            "members     0\n",
            "dtype: int64\n",
            "\n",
            "Genre Matrix:\n",
            "(12017, 43)\n",
            "  (0, 38)\t0.5454743149673916\n",
            "  (0, 27)\t0.5202747795380636\n",
            "  (0, 25)\t0.4889208084308644\n",
            "  (0, 6)\t0.43900839236942196\n",
            "  (1, 32)\t0.3538898821489279\n",
            "  (1, 19)\t0.5204784422386617\n",
            "  (1, 16)\t0.4507423555853522\n",
            "  (1, 8)\t0.3196801580056285\n",
            "  (1, 1)\t0.3158062952261171\n",
            "  (1, 0)\t0.2945372198634319\n",
            "  (1, 6)\t0.33468534169720254\n",
            "  (2, 28)\t0.2946163056343774\n",
            "  (2, 26)\t0.573718235214092\n",
            "  (2, 22)\t0.4663814202378221\n",
            "  (2, 12)\t0.39397864964311313\n",
            "  (2, 3)\t0.20868726168499313\n",
            "  (2, 32)\t0.3148212724829932\n",
            "  (2, 0)\t0.2620210043529488\n",
            "  (3, 39)\t0.9056901914001664\n",
            "  (3, 28)\t0.42394018115947685\n",
            "  (4, 28)\t0.2946163056343774\n",
            "  (4, 26)\t0.573718235214092\n",
            "  (4, 22)\t0.4663814202378221\n",
            "  (4, 12)\t0.39397864964311313\n",
            "  (4, 3)\t0.20868726168499313\n",
            "  (4, 32)\t0.3148212724829932\n",
            "  (4, 0)\t0.2620210043529488\n",
            "\n",
            "Test Data:\n",
            "Index(['anime_id', 'name', 'genre', 'type', 'episodes', 'rating', 'members'], dtype='object')\n",
            "anime_id      int64\n",
            "name         object\n",
            "genre        object\n",
            "type         object\n",
            "episodes     object\n",
            "rating      float64\n",
            "members     float64\n",
            "dtype: object\n",
            "anime_id    0\n",
            "name        0\n",
            "genre       0\n",
            "type        0\n",
            "episodes    0\n",
            "rating      0\n",
            "members     0\n",
            "dtype: int64\n",
            "IndexError occurred at index 12057: row index (12057) out of range\n",
            "IndexError occurred at index 12052: row index (12052) out of range\n",
            "IndexError occurred at index 12048: row index (12048) out of range\n",
            "IndexError occurred at index 12209: row index (12209) out of range\n",
            "IndexError occurred at index 12117: row index (12117) out of range\n",
            "IndexError occurred at index 12225: row index (12225) out of range\n",
            "IndexError occurred at index 12084: row index (12084) out of range\n",
            "IndexError occurred at index 12060: row index (12060) out of range\n",
            "IndexError occurred at index 12292: row index (12292) out of range\n",
            "IndexError occurred at index 12083: row index (12083) out of range\n",
            "IndexError occurred at index 12119: row index (12119) out of range\n",
            "IndexError occurred at index 12172: row index (12172) out of range\n",
            "IndexError occurred at index 12184: row index (12184) out of range\n",
            "IndexError occurred at index 12103: row index (12103) out of range\n",
            "IndexError occurred at index 12287: row index (12287) out of range\n",
            "IndexError occurred at index 12207: row index (12207) out of range\n",
            "IndexError occurred at index 12028: row index (12028) out of range\n",
            "IndexError occurred at index 12180: row index (12180) out of range\n",
            "IndexError occurred at index 12120: row index (12120) out of range\n",
            "IndexError occurred at index 12132: row index (12132) out of range\n",
            "IndexError occurred at index 12188: row index (12188) out of range\n",
            "IndexError occurred at index 12088: row index (12088) out of range\n",
            "IndexError occurred at index 12056: row index (12056) out of range\n",
            "IndexError occurred at index 12077: row index (12077) out of range\n",
            "IndexError occurred at index 12163: row index (12163) out of range\n",
            "IndexError occurred at index 12243: row index (12243) out of range\n",
            "IndexError occurred at index 12241: row index (12241) out of range\n",
            "IndexError occurred at index 12189: row index (12189) out of range\n",
            "IndexError occurred at index 12064: row index (12064) out of range\n",
            "IndexError occurred at index 12118: row index (12118) out of range\n",
            "IndexError occurred at index 12191: row index (12191) out of range\n",
            "IndexError occurred at index 12247: row index (12247) out of range\n",
            "IndexError occurred at index 12240: row index (12240) out of range\n",
            "IndexError occurred at index 12187: row index (12187) out of range\n",
            "IndexError occurred at index 12034: row index (12034) out of range\n",
            "IndexError occurred at index 12193: row index (12193) out of range\n",
            "IndexError occurred at index 12195: row index (12195) out of range\n",
            "IndexError occurred at index 12022: row index (12022) out of range\n",
            "IndexError occurred at index 12288: row index (12288) out of range\n",
            "IndexError occurred at index 12075: row index (12075) out of range\n",
            "IndexError occurred at index 12242: row index (12242) out of range\n",
            "IndexError occurred at index 12156: row index (12156) out of range\n",
            "IndexError occurred at index 12128: row index (12128) out of range\n",
            "IndexError occurred at index 12234: row index (12234) out of range\n",
            "IndexError occurred at index 12082: row index (12082) out of range\n",
            "IndexError occurred at index 12212: row index (12212) out of range\n",
            "IndexError occurred at index 12094: row index (12094) out of range\n",
            "IndexError occurred at index 12230: row index (12230) out of range\n",
            "IndexError occurred at index 12284: row index (12284) out of range\n",
            "IndexError occurred at index 12129: row index (12129) out of range\n",
            "IndexError occurred at index 12248: row index (12248) out of range\n",
            "IndexError occurred at index 12226: row index (12226) out of range\n",
            "IndexError occurred at index 12027: row index (12027) out of range\n",
            "IndexError occurred at index 12061: row index (12061) out of range\n",
            "IndexError occurred at index 12019: row index (12019) out of range\n",
            "IndexError occurred at index 12203: row index (12203) out of range\n",
            "Precision: 0.50\n",
            "Recall: 0.00\n",
            "F1-score: 0.00\n"
          ]
        }
      ]
    },
    {
      "cell_type": "code",
      "source": [
        "def evaluate_recommendation_system(test_data, anime_data, genre_matrix, recommend_func, top_n=10):\n",
        "    precision_scores = []\n",
        "    recall_scores = []\n",
        "    f1_scores = []\n",
        "\n",
        "    for idx, row in test_data.iterrows():\n",
        "        try:\n",
        "            anime_title = row['name']\n",
        "\n",
        "            # Get actual relevant anime titles (simulated with higher ratings)\n",
        "            actual_relevant = set(anime_data[anime_data['rating'] >= row['rating']]['name'].tolist())\n",
        "\n",
        "            # Get recommended anime titles\n",
        "            recommendations = recommend_func(anime_title, anime_data, genre_matrix, top_n=top_n)\n",
        "            recommended_set = set(recommendations)\n",
        "\n",
        "            # Calculate metrics: precision, recall, F1-score\n",
        "            tp = len(actual_relevant & recommended_set)  # True positives\n",
        "            fp = len(recommended_set - actual_relevant)  # False positives\n",
        "            fn = len(actual_relevant - recommended_set)  # False negatives\n",
        "\n",
        "            precision = tp / (tp + fp) if (tp + fp) > 0 else 0\n",
        "            recall = tp / (tp + fn) if (tp + fn) > 0 else 0\n",
        "            f1 = 2 * (precision * recall) / (precision + recall) if (precision + recall) > 0 else 0\n",
        "\n",
        "            precision_scores.append(precision)\n",
        "            recall_scores.append(recall)\n",
        "            f1_scores.append(f1)\n",
        "\n",
        "        except IndexError:\n",
        "            # Skip problematic row silently\n",
        "            pass\n",
        "        except Exception as e:\n",
        "            # Handle other exceptions if needed\n",
        "            print(f\"Error occurred at index {idx}: {e}\")\n",
        "            continue  # Optionally continue with next iteration\n",
        "\n",
        "    # Calculate average scores\n",
        "    avg_precision = sum(precision_scores) / len(precision_scores) if precision_scores else 0\n",
        "    avg_recall = sum(recall_scores) / len(recall_scores) if recall_scores else 0\n",
        "    avg_f1 = sum(f1_scores) / len(f1_scores) if f1_scores else 0\n",
        "\n",
        "    return avg_precision, avg_recall, avg_f1\n",
        "\n",
        "# Example usage: Evaluate the recommendation system\n",
        "try:\n",
        "    avg_precision, avg_recall, avg_f1 = evaluate_recommendation_system(test_data, anime_data, genre_matrix, recommend_anime, top_n=10)\n",
        "    print(f\"Precision: {avg_precision:.2f}\")\n",
        "    print(f\"Recall: {avg_recall:.2f}\")\n",
        "    print(f\"F1-score: {avg_f1:.2f}\")\n",
        "except Exception as e:\n",
        "    print(f\"Error occurred during evaluation: {e}\")"
      ],
      "metadata": {
        "colab": {
          "base_uri": "https://localhost:8080/"
        },
        "id": "A_kD0Q_67VNl",
        "outputId": "f87d8709-87ab-4d9a-b2dd-91c733af30c8"
      },
      "execution_count": 63,
      "outputs": [
        {
          "output_type": "stream",
          "name": "stdout",
          "text": [
            "Precision: 0.50\n",
            "Recall: 0.00\n",
            "F1-score: 0.00\n"
          ]
        }
      ]
    },
    {
      "cell_type": "markdown",
      "source": [
        "Precision: A precision of 0.50 suggests that half of the recommended items are relevant, which could mean the recommendations are somewhat accurate but still have room for improvement.\n",
        "Recall: A recall of 0.00 indicates that the system failed to recommend any of the relevant items, which is a significant shortcoming because it means the system missed all items that the user would likely find relevant.\n",
        "F1-score: An F1-score of 0.00 reflects poor overall performance, likely due to the combination of low precision and zero recall. This indicates that the recommendation system needs improvement to provide more accurate and relevant recommendations.\n"
      ],
      "metadata": {
        "id": "j-44n3P58nkk"
      }
    },
    {
      "cell_type": "markdown",
      "source": [
        "To improve the recommendation system and provide more accurate and relevant recommendations, consider the following strategies:\n",
        "\n",
        "Enhance Feature Representation:\n",
        "\n",
        "Genres and Tags: Improve how genres and tags are represented and utilized in the recommendation algorithm. Ensure that each anime's genres and tags are accurately captured and weighted appropriately.\n",
        "User Preferences: Incorporate more detailed user preferences beyond just ratings. Consider factors like viewing history, favorite genres, and interactions (e.g., likes, bookmarks) to personalize recommendations.\n",
        "Advanced Algorithms:\n",
        "\n",
        "Collaborative Filtering: Implement advanced collaborative filtering techniques such as matrix factorization, neighborhood-based methods, or deep learning models (e.g., neural collaborative filtering) to capture complex patterns and relationships in user-item interactions.\n",
        "Content-Based Filtering: Combine content-based filtering with collaborative filtering to leverage both item features (e.g., genres, ratings) and user behavior for more personalized recommendations.\n",
        "Data Quality and Preprocessing:\n",
        "\n",
        "Clean Data: Ensure data quality by handling missing values, outliers, and inconsistencies in the dataset. Use robust preprocessing techniques to standardize and normalize data features.\n",
        "Feature Engineering: Create new features or transform existing ones (e.g., feature scaling, dimensionality reduction) that enhance the representation of anime and user profiles.\n",
        "Evaluation and Feedback Loop:\n",
        "\n",
        "Metrics: Continuously evaluate the recommendation system using metrics like precision, recall, and F1-score. Monitor these metrics over time to assess improvements and identify areas for further enhancement.\n",
        "User Feedback: Incorporate explicit user feedback (e.g., ratings, reviews, clicks) and implicit feedback (e.g., browsing history, time spent) to iteratively refine recommendations based on real user interactions.\n",
        "\n",
        "Contextual Recommendations:\n",
        "\n",
        "Temporal Dynamics: Consider temporal effects in user preferences and item popularity. Adjust recommendations dynamically based on seasonal trends, new releases, or changing user interests.\n",
        "Contextual Information: Integrate contextual information such as user location, device type, and time of day to deliver more relevant recommendations tailored to specific contexts.\n",
        "\n",
        "Experimentation and A/B Testing:\n",
        "\n",
        "Iterative Improvements: Implement a structured approach to experimentation and A/B testing to compare different recommendation algorithms, parameters, and feature combinations. Use insights from experiments to guide further refinements.\n",
        "\n",
        "Scalability and Performance:\n",
        "\n",
        "Scalable Solutions: Ensure the recommendation system can handle large datasets efficiently. Consider distributed computing frameworks or cloud-based solutions to scale the system as user base and data volume grow."
      ],
      "metadata": {
        "id": "OlpRfhQ-89G0"
      }
    },
    {
      "cell_type": "markdown",
      "source": [
        "By focusing on these areas, we can enhance the recommendation system's accuracy and relevance, ultimately improving user satisfaction and engagement with the platform. Continuous monitoring and adaptation based on user feedback and performance metrics will be crucial in maintaining the system's effectiveness over time."
      ],
      "metadata": {
        "id": "um4aOqzm9KrN"
      }
    }
  ]
}