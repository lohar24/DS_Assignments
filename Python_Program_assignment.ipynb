{
  "nbformat": 4,
  "nbformat_minor": 0,
  "metadata": {
    "colab": {
      "provenance": []
    },
    "kernelspec": {
      "name": "python3",
      "display_name": "Python 3"
    },
    "language_info": {
      "name": "python"
    }
  },
  "cells": [
    {
      "cell_type": "code",
      "execution_count": null,
      "metadata": {
        "id": "wFLHqoj_r8cl",
        "colab": {
          "base_uri": "https://localhost:8080/"
        },
        "outputId": "749b6cb8-a0ae-4790-df34-57d725ab9c2a"
      },
      "outputs": [
        {
          "output_type": "stream",
          "name": "stdout",
          "text": [
            "Enter a number: 2\n",
            "2 is a prime number\n"
          ]
        }
      ],
      "source": [
        " ############# Prime number ###############\n",
        "# Program to check Input Number is prime number and display output\n",
        "# Function to check Input Number is prime number and return True/False accordingly\n",
        "def isprime(n):\n",
        "  if n<=1:\n",
        "    return False\n",
        "  if n<=3:\n",
        "    return True\n",
        "  if n%2==0 or n%3==0:\n",
        "    return False\n",
        "  i=5\n",
        "  while i*i<=n:\n",
        "    if n % i == 0 or n % (i + 2) == 0:\n",
        "      return False\n",
        "      i += 6\n",
        "  return True\n",
        "\n",
        "# Input from the user\n",
        "number = int(input(\"Enter a number: \"))\n",
        "\n",
        "# Function call to display whether input number is a prime number or not\n",
        "if isprime(number)== True:\n",
        "   print(number, \"is a prime number\")\n",
        "else:\n",
        "  print(number, \"is not a prime number\")\n",
        "\n"
      ]
    },
    {
      "cell_type": "markdown",
      "source": [
        "## **PRODUCT**"
      ],
      "metadata": {
        "id": "Ek7wHRe11F4P"
      }
    },
    {
      "cell_type": "code",
      "source": [
        "# Program to generate random numbers and checking product entered by user is correct or wrong\n",
        "# Necessary library import\n",
        "import random\n",
        "\n",
        "# Generatation of two random numbers\n",
        "num1 = random.randint(1, 100)\n",
        "num2 = random.randint(1, 100)\n",
        "\n",
        "# The numbers display\n",
        "print(\"First random number:\", num1)\n",
        "print(\"Second random number:\", num2)\n",
        "\n",
        "# Function to check product enetered by user is coorect\n",
        "def product(x):\n",
        "    print(\"Product:\",num1*num2)\n",
        "    if(x== (num1*num2)):\n",
        "      return \"your product guess is correct\"\n",
        "    else:\n",
        "      return \"your product guess is wrong\"\n",
        "\n",
        "# Input from the user\n",
        "number = int(input(\"Enter a product of above two random numbers: \"))\n",
        "\n",
        "# Function Call to check entered product guess is correct or wrong\n",
        "product(number)"
      ],
      "metadata": {
        "colab": {
          "base_uri": "https://localhost:8080/",
          "height": 105
        },
        "id": "QkiHg-oitbPg",
        "outputId": "3a354c4c-d6fe-4f98-c1f1-7ddb27a58e75"
      },
      "execution_count": null,
      "outputs": [
        {
          "output_type": "stream",
          "name": "stdout",
          "text": [
            "First random number: 76\n",
            "Second random number: 90\n",
            "Enter a product of above two random numbers: 676767\n",
            "Product: 6840\n"
          ]
        },
        {
          "output_type": "execute_result",
          "data": {
            "text/plain": [
              "'your product guess is wrong'"
            ],
            "application/vnd.google.colaboratory.intrinsic+json": {
              "type": "string"
            }
          },
          "metadata": {},
          "execution_count": 41
        }
      ]
    },
    {
      "cell_type": "markdown",
      "source": [
        "## **EVEN** **NOS** **SQUARE**"
      ],
      "metadata": {
        "id": "2SRXP54g08Vd"
      }
    },
    {
      "cell_type": "code",
      "source": [
        "# Python program to print all even no squares within range from 100 to 200\n",
        "# Range\n",
        "Start_no= 100\n",
        "End_no=200\n",
        "# For Loop for iterations from range 100 to 200 and print square of all even nos in a range\n",
        "for num in range(Start_no,End_no+1):\n",
        "  if num%2 == 0:\n",
        "    squared=num**2\n",
        "    print(\"The Square of\",num,\"is \",squared)"
      ],
      "metadata": {
        "colab": {
          "base_uri": "https://localhost:8080/"
        },
        "id": "9E1Kjvg1YQGJ",
        "outputId": "fc05af0d-98e1-4652-a233-b695c07bd08d"
      },
      "execution_count": null,
      "outputs": [
        {
          "output_type": "stream",
          "name": "stdout",
          "text": [
            "The Square of 100 is  10000\n",
            "The Square of 102 is  10404\n",
            "The Square of 104 is  10816\n",
            "The Square of 106 is  11236\n",
            "The Square of 108 is  11664\n",
            "The Square of 110 is  12100\n",
            "The Square of 112 is  12544\n",
            "The Square of 114 is  12996\n",
            "The Square of 116 is  13456\n",
            "The Square of 118 is  13924\n",
            "The Square of 120 is  14400\n",
            "The Square of 122 is  14884\n",
            "The Square of 124 is  15376\n",
            "The Square of 126 is  15876\n",
            "The Square of 128 is  16384\n",
            "The Square of 130 is  16900\n",
            "The Square of 132 is  17424\n",
            "The Square of 134 is  17956\n",
            "The Square of 136 is  18496\n",
            "The Square of 138 is  19044\n",
            "The Square of 140 is  19600\n",
            "The Square of 142 is  20164\n",
            "The Square of 144 is  20736\n",
            "The Square of 146 is  21316\n",
            "The Square of 148 is  21904\n",
            "The Square of 150 is  22500\n",
            "The Square of 152 is  23104\n",
            "The Square of 154 is  23716\n",
            "The Square of 156 is  24336\n",
            "The Square of 158 is  24964\n",
            "The Square of 160 is  25600\n",
            "The Square of 162 is  26244\n",
            "The Square of 164 is  26896\n",
            "The Square of 166 is  27556\n",
            "The Square of 168 is  28224\n",
            "The Square of 170 is  28900\n",
            "The Square of 172 is  29584\n",
            "The Square of 174 is  30276\n",
            "The Square of 176 is  30976\n",
            "The Square of 178 is  31684\n",
            "The Square of 180 is  32400\n",
            "The Square of 182 is  33124\n",
            "The Square of 184 is  33856\n",
            "The Square of 186 is  34596\n",
            "The Square of 188 is  35344\n",
            "The Square of 190 is  36100\n",
            "The Square of 192 is  36864\n",
            "The Square of 194 is  37636\n",
            "The Square of 196 is  38416\n",
            "The Square of 198 is  39204\n",
            "The Square of 200 is  40000\n"
          ]
        }
      ]
    },
    {
      "cell_type": "markdown",
      "source": [
        "# **Word** **Count**"
      ],
      "metadata": {
        "id": "SFYepoVS0xeA"
      }
    },
    {
      "cell_type": "code",
      "source": [
        "# Program to count no of count of each word in a given Input text\n",
        "# Define a function to count no of count of words from given Input text\n",
        "def words_count(x):\n",
        "  # divide text into words\n",
        "  words=x.split()\n",
        "  countWord={}\n",
        "  # count every word\n",
        "  for word in words:\n",
        "    word=word.strip(\",.!?;:\\\"\")\n",
        "    word=word.lower()\n",
        "    # update count of every word\n",
        "    if word in countWord:\n",
        "       countWord[word] += 1\n",
        "    else:\n",
        "       countWord[word] = 1\n",
        "\n",
        "  return countWord\n",
        "\n",
        "# Input from user\n",
        "input_user=input(\"Enter the Text:\")\n",
        "\n",
        "# Function call to display output word qith counts\n",
        "counts=words_count(input_user)\n",
        "print(\"word counts:\")\n",
        "for x,y in counts.items():\n",
        "    print(f\"'{x}':{y}\")\n"
      ],
      "metadata": {
        "colab": {
          "base_uri": "https://localhost:8080/"
        },
        "id": "UhiD7m6FapIt",
        "outputId": "f9b581e4-ee06-4c6a-956b-eb573e9683af"
      },
      "execution_count": null,
      "outputs": [
        {
          "output_type": "stream",
          "name": "stdout",
          "text": [
            "Enter the Text:hi hi kkk hi\n",
            "word counts:\n",
            "'hi':3\n",
            "'kkk':1\n"
          ]
        }
      ]
    },
    {
      "cell_type": "markdown",
      "source": [
        "## ***palindrome***"
      ],
      "metadata": {
        "id": "KBrX9wir0k91"
      }
    },
    {
      "cell_type": "code",
      "source": [
        "# Programme to check whether input string is palindrome and return True or False\n",
        "# Define function to check input string is palindrome and return True or False\n",
        "def isPalindrome(str):\n",
        "  # Remove space\n",
        "  # convert to lowercase\n",
        "  str=str.replace(\" \",\"\").lower()\n",
        "  # compare with reverse order\n",
        "  return str== str[::-1]\n",
        "\n",
        "# User input\n",
        "input_text=input(\"Enter a input string :\")\n",
        "\n",
        "# Function call to check string input is palindrome and print True or False\n",
        "print(isPalindrome(input_text))\n",
        "\n"
      ],
      "metadata": {
        "colab": {
          "base_uri": "https://localhost:8080/"
        },
        "id": "kfvJJgWxm_kI",
        "outputId": "13e63b68-a80f-48de-c88e-de9552c727c0"
      },
      "execution_count": null,
      "outputs": [
        {
          "output_type": "stream",
          "name": "stdout",
          "text": [
            "Enter a input string :racecar\n",
            "True\n"
          ]
        }
      ]
    }
  ]
}