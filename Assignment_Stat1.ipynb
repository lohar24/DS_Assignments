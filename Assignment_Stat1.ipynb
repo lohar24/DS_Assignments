{
  "nbformat": 4,
  "nbformat_minor": 0,
  "metadata": {
    "colab": {
      "provenance": []
    },
    "kernelspec": {
      "name": "python3",
      "display_name": "Python 3"
    },
    "language_info": {
      "name": "python"
    }
  },
  "cells": [
    {
      "cell_type": "code",
      "execution_count": 4,
      "metadata": {
        "colab": {
          "base_uri": "https://localhost:8080/",
          "height": 805
        },
        "id": "oIu4kTlZ6Mg6",
        "outputId": "29f7e576-6d62-4c6e-92f9-e8575411f98a"
      },
      "outputs": [
        {
          "output_type": "execute_result",
          "data": {
            "text/plain": [
              "           Date       Day  SKU City  Volume         BU  Brand       Model  \\\n",
              "0    01-04-2021  Thursday  M01    C      15    Mobiles  RealU       RU-10   \n",
              "1    01-04-2021  Thursday  M02    C      10    Mobiles  RealU   RU-9 Plus   \n",
              "2    01-04-2021  Thursday  M03    C       7    Mobiles   YouM       YM-99   \n",
              "3    01-04-2021  Thursday  M04    C       6    Mobiles   YouM  YM-99 Plus   \n",
              "4    01-04-2021  Thursday  M05    C       3    Mobiles   YouM      YM-98    \n",
              "..          ...       ...  ...  ...     ...        ...    ...         ...   \n",
              "445  15-04-2021  Thursday  L06    C       2  Lifestyle  Jeera   M-Casuals   \n",
              "446  15-04-2021  Thursday  L07    C       6  Lifestyle   Viva   W-Western   \n",
              "447  15-04-2021  Thursday  L08    C       2  Lifestyle   Viva    W-Lounge   \n",
              "448  15-04-2021  Thursday  L09    C       3  Lifestyle  Jeera   M-Formals   \n",
              "449  15-04-2021  Thursday  L10    C       1  Lifestyle  Jeera     M-Shoes   \n",
              "\n",
              "     Avg Price  Total Sales Value  Discount Rate (%)  Discount Amount  \\\n",
              "0        12100             181500          11.654820     21153.498820   \n",
              "1        10100             101000          11.560498     11676.102961   \n",
              "2        16100             112700           9.456886     10657.910157   \n",
              "3        20100             120600           6.935385      8364.074702   \n",
              "4         8100              24300          17.995663      4372.946230   \n",
              "..         ...                ...                ...              ...   \n",
              "445       1300               2600          15.475687       402.367873   \n",
              "446       2600              15600          17.057027      2660.896242   \n",
              "447       1600               3200          18.965550       606.897606   \n",
              "448       1900               5700          16.793014       957.201826   \n",
              "449       3100               3100          15.333300       475.332295   \n",
              "\n",
              "     Net Sales Value  \n",
              "0      160346.501180  \n",
              "1       89323.897039  \n",
              "2      102042.089843  \n",
              "3      112235.925298  \n",
              "4       19927.053770  \n",
              "..               ...  \n",
              "445      2197.632127  \n",
              "446     12939.103758  \n",
              "447      2593.102394  \n",
              "448      4742.798174  \n",
              "449      2624.667705  \n",
              "\n",
              "[450 rows x 13 columns]"
            ],
            "text/html": [
              "\n",
              "  <div id=\"df-e06db8cb-f810-4756-b6bd-5ac6c30cdcc0\" class=\"colab-df-container\">\n",
              "    <div>\n",
              "<style scoped>\n",
              "    .dataframe tbody tr th:only-of-type {\n",
              "        vertical-align: middle;\n",
              "    }\n",
              "\n",
              "    .dataframe tbody tr th {\n",
              "        vertical-align: top;\n",
              "    }\n",
              "\n",
              "    .dataframe thead th {\n",
              "        text-align: right;\n",
              "    }\n",
              "</style>\n",
              "<table border=\"1\" class=\"dataframe\">\n",
              "  <thead>\n",
              "    <tr style=\"text-align: right;\">\n",
              "      <th></th>\n",
              "      <th>Date</th>\n",
              "      <th>Day</th>\n",
              "      <th>SKU</th>\n",
              "      <th>City</th>\n",
              "      <th>Volume</th>\n",
              "      <th>BU</th>\n",
              "      <th>Brand</th>\n",
              "      <th>Model</th>\n",
              "      <th>Avg Price</th>\n",
              "      <th>Total Sales Value</th>\n",
              "      <th>Discount Rate (%)</th>\n",
              "      <th>Discount Amount</th>\n",
              "      <th>Net Sales Value</th>\n",
              "    </tr>\n",
              "  </thead>\n",
              "  <tbody>\n",
              "    <tr>\n",
              "      <th>0</th>\n",
              "      <td>01-04-2021</td>\n",
              "      <td>Thursday</td>\n",
              "      <td>M01</td>\n",
              "      <td>C</td>\n",
              "      <td>15</td>\n",
              "      <td>Mobiles</td>\n",
              "      <td>RealU</td>\n",
              "      <td>RU-10</td>\n",
              "      <td>12100</td>\n",
              "      <td>181500</td>\n",
              "      <td>11.654820</td>\n",
              "      <td>21153.498820</td>\n",
              "      <td>160346.501180</td>\n",
              "    </tr>\n",
              "    <tr>\n",
              "      <th>1</th>\n",
              "      <td>01-04-2021</td>\n",
              "      <td>Thursday</td>\n",
              "      <td>M02</td>\n",
              "      <td>C</td>\n",
              "      <td>10</td>\n",
              "      <td>Mobiles</td>\n",
              "      <td>RealU</td>\n",
              "      <td>RU-9 Plus</td>\n",
              "      <td>10100</td>\n",
              "      <td>101000</td>\n",
              "      <td>11.560498</td>\n",
              "      <td>11676.102961</td>\n",
              "      <td>89323.897039</td>\n",
              "    </tr>\n",
              "    <tr>\n",
              "      <th>2</th>\n",
              "      <td>01-04-2021</td>\n",
              "      <td>Thursday</td>\n",
              "      <td>M03</td>\n",
              "      <td>C</td>\n",
              "      <td>7</td>\n",
              "      <td>Mobiles</td>\n",
              "      <td>YouM</td>\n",
              "      <td>YM-99</td>\n",
              "      <td>16100</td>\n",
              "      <td>112700</td>\n",
              "      <td>9.456886</td>\n",
              "      <td>10657.910157</td>\n",
              "      <td>102042.089843</td>\n",
              "    </tr>\n",
              "    <tr>\n",
              "      <th>3</th>\n",
              "      <td>01-04-2021</td>\n",
              "      <td>Thursday</td>\n",
              "      <td>M04</td>\n",
              "      <td>C</td>\n",
              "      <td>6</td>\n",
              "      <td>Mobiles</td>\n",
              "      <td>YouM</td>\n",
              "      <td>YM-99 Plus</td>\n",
              "      <td>20100</td>\n",
              "      <td>120600</td>\n",
              "      <td>6.935385</td>\n",
              "      <td>8364.074702</td>\n",
              "      <td>112235.925298</td>\n",
              "    </tr>\n",
              "    <tr>\n",
              "      <th>4</th>\n",
              "      <td>01-04-2021</td>\n",
              "      <td>Thursday</td>\n",
              "      <td>M05</td>\n",
              "      <td>C</td>\n",
              "      <td>3</td>\n",
              "      <td>Mobiles</td>\n",
              "      <td>YouM</td>\n",
              "      <td>YM-98</td>\n",
              "      <td>8100</td>\n",
              "      <td>24300</td>\n",
              "      <td>17.995663</td>\n",
              "      <td>4372.946230</td>\n",
              "      <td>19927.053770</td>\n",
              "    </tr>\n",
              "    <tr>\n",
              "      <th>...</th>\n",
              "      <td>...</td>\n",
              "      <td>...</td>\n",
              "      <td>...</td>\n",
              "      <td>...</td>\n",
              "      <td>...</td>\n",
              "      <td>...</td>\n",
              "      <td>...</td>\n",
              "      <td>...</td>\n",
              "      <td>...</td>\n",
              "      <td>...</td>\n",
              "      <td>...</td>\n",
              "      <td>...</td>\n",
              "      <td>...</td>\n",
              "    </tr>\n",
              "    <tr>\n",
              "      <th>445</th>\n",
              "      <td>15-04-2021</td>\n",
              "      <td>Thursday</td>\n",
              "      <td>L06</td>\n",
              "      <td>C</td>\n",
              "      <td>2</td>\n",
              "      <td>Lifestyle</td>\n",
              "      <td>Jeera</td>\n",
              "      <td>M-Casuals</td>\n",
              "      <td>1300</td>\n",
              "      <td>2600</td>\n",
              "      <td>15.475687</td>\n",
              "      <td>402.367873</td>\n",
              "      <td>2197.632127</td>\n",
              "    </tr>\n",
              "    <tr>\n",
              "      <th>446</th>\n",
              "      <td>15-04-2021</td>\n",
              "      <td>Thursday</td>\n",
              "      <td>L07</td>\n",
              "      <td>C</td>\n",
              "      <td>6</td>\n",
              "      <td>Lifestyle</td>\n",
              "      <td>Viva</td>\n",
              "      <td>W-Western</td>\n",
              "      <td>2600</td>\n",
              "      <td>15600</td>\n",
              "      <td>17.057027</td>\n",
              "      <td>2660.896242</td>\n",
              "      <td>12939.103758</td>\n",
              "    </tr>\n",
              "    <tr>\n",
              "      <th>447</th>\n",
              "      <td>15-04-2021</td>\n",
              "      <td>Thursday</td>\n",
              "      <td>L08</td>\n",
              "      <td>C</td>\n",
              "      <td>2</td>\n",
              "      <td>Lifestyle</td>\n",
              "      <td>Viva</td>\n",
              "      <td>W-Lounge</td>\n",
              "      <td>1600</td>\n",
              "      <td>3200</td>\n",
              "      <td>18.965550</td>\n",
              "      <td>606.897606</td>\n",
              "      <td>2593.102394</td>\n",
              "    </tr>\n",
              "    <tr>\n",
              "      <th>448</th>\n",
              "      <td>15-04-2021</td>\n",
              "      <td>Thursday</td>\n",
              "      <td>L09</td>\n",
              "      <td>C</td>\n",
              "      <td>3</td>\n",
              "      <td>Lifestyle</td>\n",
              "      <td>Jeera</td>\n",
              "      <td>M-Formals</td>\n",
              "      <td>1900</td>\n",
              "      <td>5700</td>\n",
              "      <td>16.793014</td>\n",
              "      <td>957.201826</td>\n",
              "      <td>4742.798174</td>\n",
              "    </tr>\n",
              "    <tr>\n",
              "      <th>449</th>\n",
              "      <td>15-04-2021</td>\n",
              "      <td>Thursday</td>\n",
              "      <td>L10</td>\n",
              "      <td>C</td>\n",
              "      <td>1</td>\n",
              "      <td>Lifestyle</td>\n",
              "      <td>Jeera</td>\n",
              "      <td>M-Shoes</td>\n",
              "      <td>3100</td>\n",
              "      <td>3100</td>\n",
              "      <td>15.333300</td>\n",
              "      <td>475.332295</td>\n",
              "      <td>2624.667705</td>\n",
              "    </tr>\n",
              "  </tbody>\n",
              "</table>\n",
              "<p>450 rows × 13 columns</p>\n",
              "</div>\n",
              "    <div class=\"colab-df-buttons\">\n",
              "\n",
              "  <div class=\"colab-df-container\">\n",
              "    <button class=\"colab-df-convert\" onclick=\"convertToInteractive('df-e06db8cb-f810-4756-b6bd-5ac6c30cdcc0')\"\n",
              "            title=\"Convert this dataframe to an interactive table.\"\n",
              "            style=\"display:none;\">\n",
              "\n",
              "  <svg xmlns=\"http://www.w3.org/2000/svg\" height=\"24px\" viewBox=\"0 -960 960 960\">\n",
              "    <path d=\"M120-120v-720h720v720H120Zm60-500h600v-160H180v160Zm220 220h160v-160H400v160Zm0 220h160v-160H400v160ZM180-400h160v-160H180v160Zm440 0h160v-160H620v160ZM180-180h160v-160H180v160Zm440 0h160v-160H620v160Z\"/>\n",
              "  </svg>\n",
              "    </button>\n",
              "\n",
              "  <style>\n",
              "    .colab-df-container {\n",
              "      display:flex;\n",
              "      gap: 12px;\n",
              "    }\n",
              "\n",
              "    .colab-df-convert {\n",
              "      background-color: #E8F0FE;\n",
              "      border: none;\n",
              "      border-radius: 50%;\n",
              "      cursor: pointer;\n",
              "      display: none;\n",
              "      fill: #1967D2;\n",
              "      height: 32px;\n",
              "      padding: 0 0 0 0;\n",
              "      width: 32px;\n",
              "    }\n",
              "\n",
              "    .colab-df-convert:hover {\n",
              "      background-color: #E2EBFA;\n",
              "      box-shadow: 0px 1px 2px rgba(60, 64, 67, 0.3), 0px 1px 3px 1px rgba(60, 64, 67, 0.15);\n",
              "      fill: #174EA6;\n",
              "    }\n",
              "\n",
              "    .colab-df-buttons div {\n",
              "      margin-bottom: 4px;\n",
              "    }\n",
              "\n",
              "    [theme=dark] .colab-df-convert {\n",
              "      background-color: #3B4455;\n",
              "      fill: #D2E3FC;\n",
              "    }\n",
              "\n",
              "    [theme=dark] .colab-df-convert:hover {\n",
              "      background-color: #434B5C;\n",
              "      box-shadow: 0px 1px 3px 1px rgba(0, 0, 0, 0.15);\n",
              "      filter: drop-shadow(0px 1px 2px rgba(0, 0, 0, 0.3));\n",
              "      fill: #FFFFFF;\n",
              "    }\n",
              "  </style>\n",
              "\n",
              "    <script>\n",
              "      const buttonEl =\n",
              "        document.querySelector('#df-e06db8cb-f810-4756-b6bd-5ac6c30cdcc0 button.colab-df-convert');\n",
              "      buttonEl.style.display =\n",
              "        google.colab.kernel.accessAllowed ? 'block' : 'none';\n",
              "\n",
              "      async function convertToInteractive(key) {\n",
              "        const element = document.querySelector('#df-e06db8cb-f810-4756-b6bd-5ac6c30cdcc0');\n",
              "        const dataTable =\n",
              "          await google.colab.kernel.invokeFunction('convertToInteractive',\n",
              "                                                    [key], {});\n",
              "        if (!dataTable) return;\n",
              "\n",
              "        const docLinkHtml = 'Like what you see? Visit the ' +\n",
              "          '<a target=\"_blank\" href=https://colab.research.google.com/notebooks/data_table.ipynb>data table notebook</a>'\n",
              "          + ' to learn more about interactive tables.';\n",
              "        element.innerHTML = '';\n",
              "        dataTable['output_type'] = 'display_data';\n",
              "        await google.colab.output.renderOutput(dataTable, element);\n",
              "        const docLink = document.createElement('div');\n",
              "        docLink.innerHTML = docLinkHtml;\n",
              "        element.appendChild(docLink);\n",
              "      }\n",
              "    </script>\n",
              "  </div>\n",
              "\n",
              "\n",
              "<div id=\"df-42ee1697-8e1d-41c4-8d7d-70bb1adc10a8\">\n",
              "  <button class=\"colab-df-quickchart\" onclick=\"quickchart('df-42ee1697-8e1d-41c4-8d7d-70bb1adc10a8')\"\n",
              "            title=\"Suggest charts\"\n",
              "            style=\"display:none;\">\n",
              "\n",
              "<svg xmlns=\"http://www.w3.org/2000/svg\" height=\"24px\"viewBox=\"0 0 24 24\"\n",
              "     width=\"24px\">\n",
              "    <g>\n",
              "        <path d=\"M19 3H5c-1.1 0-2 .9-2 2v14c0 1.1.9 2 2 2h14c1.1 0 2-.9 2-2V5c0-1.1-.9-2-2-2zM9 17H7v-7h2v7zm4 0h-2V7h2v10zm4 0h-2v-4h2v4z\"/>\n",
              "    </g>\n",
              "</svg>\n",
              "  </button>\n",
              "\n",
              "<style>\n",
              "  .colab-df-quickchart {\n",
              "      --bg-color: #E8F0FE;\n",
              "      --fill-color: #1967D2;\n",
              "      --hover-bg-color: #E2EBFA;\n",
              "      --hover-fill-color: #174EA6;\n",
              "      --disabled-fill-color: #AAA;\n",
              "      --disabled-bg-color: #DDD;\n",
              "  }\n",
              "\n",
              "  [theme=dark] .colab-df-quickchart {\n",
              "      --bg-color: #3B4455;\n",
              "      --fill-color: #D2E3FC;\n",
              "      --hover-bg-color: #434B5C;\n",
              "      --hover-fill-color: #FFFFFF;\n",
              "      --disabled-bg-color: #3B4455;\n",
              "      --disabled-fill-color: #666;\n",
              "  }\n",
              "\n",
              "  .colab-df-quickchart {\n",
              "    background-color: var(--bg-color);\n",
              "    border: none;\n",
              "    border-radius: 50%;\n",
              "    cursor: pointer;\n",
              "    display: none;\n",
              "    fill: var(--fill-color);\n",
              "    height: 32px;\n",
              "    padding: 0;\n",
              "    width: 32px;\n",
              "  }\n",
              "\n",
              "  .colab-df-quickchart:hover {\n",
              "    background-color: var(--hover-bg-color);\n",
              "    box-shadow: 0 1px 2px rgba(60, 64, 67, 0.3), 0 1px 3px 1px rgba(60, 64, 67, 0.15);\n",
              "    fill: var(--button-hover-fill-color);\n",
              "  }\n",
              "\n",
              "  .colab-df-quickchart-complete:disabled,\n",
              "  .colab-df-quickchart-complete:disabled:hover {\n",
              "    background-color: var(--disabled-bg-color);\n",
              "    fill: var(--disabled-fill-color);\n",
              "    box-shadow: none;\n",
              "  }\n",
              "\n",
              "  .colab-df-spinner {\n",
              "    border: 2px solid var(--fill-color);\n",
              "    border-color: transparent;\n",
              "    border-bottom-color: var(--fill-color);\n",
              "    animation:\n",
              "      spin 1s steps(1) infinite;\n",
              "  }\n",
              "\n",
              "  @keyframes spin {\n",
              "    0% {\n",
              "      border-color: transparent;\n",
              "      border-bottom-color: var(--fill-color);\n",
              "      border-left-color: var(--fill-color);\n",
              "    }\n",
              "    20% {\n",
              "      border-color: transparent;\n",
              "      border-left-color: var(--fill-color);\n",
              "      border-top-color: var(--fill-color);\n",
              "    }\n",
              "    30% {\n",
              "      border-color: transparent;\n",
              "      border-left-color: var(--fill-color);\n",
              "      border-top-color: var(--fill-color);\n",
              "      border-right-color: var(--fill-color);\n",
              "    }\n",
              "    40% {\n",
              "      border-color: transparent;\n",
              "      border-right-color: var(--fill-color);\n",
              "      border-top-color: var(--fill-color);\n",
              "    }\n",
              "    60% {\n",
              "      border-color: transparent;\n",
              "      border-right-color: var(--fill-color);\n",
              "    }\n",
              "    80% {\n",
              "      border-color: transparent;\n",
              "      border-right-color: var(--fill-color);\n",
              "      border-bottom-color: var(--fill-color);\n",
              "    }\n",
              "    90% {\n",
              "      border-color: transparent;\n",
              "      border-bottom-color: var(--fill-color);\n",
              "    }\n",
              "  }\n",
              "</style>\n",
              "\n",
              "  <script>\n",
              "    async function quickchart(key) {\n",
              "      const quickchartButtonEl =\n",
              "        document.querySelector('#' + key + ' button');\n",
              "      quickchartButtonEl.disabled = true;  // To prevent multiple clicks.\n",
              "      quickchartButtonEl.classList.add('colab-df-spinner');\n",
              "      try {\n",
              "        const charts = await google.colab.kernel.invokeFunction(\n",
              "            'suggestCharts', [key], {});\n",
              "      } catch (error) {\n",
              "        console.error('Error during call to suggestCharts:', error);\n",
              "      }\n",
              "      quickchartButtonEl.classList.remove('colab-df-spinner');\n",
              "      quickchartButtonEl.classList.add('colab-df-quickchart-complete');\n",
              "    }\n",
              "    (() => {\n",
              "      let quickchartButtonEl =\n",
              "        document.querySelector('#df-42ee1697-8e1d-41c4-8d7d-70bb1adc10a8 button');\n",
              "      quickchartButtonEl.style.display =\n",
              "        google.colab.kernel.accessAllowed ? 'block' : 'none';\n",
              "    })();\n",
              "  </script>\n",
              "</div>\n",
              "\n",
              "  <div id=\"id_40f6f658-1d92-46f3-bb75-1f237cbe9748\">\n",
              "    <style>\n",
              "      .colab-df-generate {\n",
              "        background-color: #E8F0FE;\n",
              "        border: none;\n",
              "        border-radius: 50%;\n",
              "        cursor: pointer;\n",
              "        display: none;\n",
              "        fill: #1967D2;\n",
              "        height: 32px;\n",
              "        padding: 0 0 0 0;\n",
              "        width: 32px;\n",
              "      }\n",
              "\n",
              "      .colab-df-generate:hover {\n",
              "        background-color: #E2EBFA;\n",
              "        box-shadow: 0px 1px 2px rgba(60, 64, 67, 0.3), 0px 1px 3px 1px rgba(60, 64, 67, 0.15);\n",
              "        fill: #174EA6;\n",
              "      }\n",
              "\n",
              "      [theme=dark] .colab-df-generate {\n",
              "        background-color: #3B4455;\n",
              "        fill: #D2E3FC;\n",
              "      }\n",
              "\n",
              "      [theme=dark] .colab-df-generate:hover {\n",
              "        background-color: #434B5C;\n",
              "        box-shadow: 0px 1px 3px 1px rgba(0, 0, 0, 0.15);\n",
              "        filter: drop-shadow(0px 1px 2px rgba(0, 0, 0, 0.3));\n",
              "        fill: #FFFFFF;\n",
              "      }\n",
              "    </style>\n",
              "    <button class=\"colab-df-generate\" onclick=\"generateWithVariable('df')\"\n",
              "            title=\"Generate code using this dataframe.\"\n",
              "            style=\"display:none;\">\n",
              "\n",
              "  <svg xmlns=\"http://www.w3.org/2000/svg\" height=\"24px\"viewBox=\"0 0 24 24\"\n",
              "       width=\"24px\">\n",
              "    <path d=\"M7,19H8.4L18.45,9,17,7.55,7,17.6ZM5,21V16.75L18.45,3.32a2,2,0,0,1,2.83,0l1.4,1.43a1.91,1.91,0,0,1,.58,1.4,1.91,1.91,0,0,1-.58,1.4L9.25,21ZM18.45,9,17,7.55Zm-12,3A5.31,5.31,0,0,0,4.9,8.1,5.31,5.31,0,0,0,1,6.5,5.31,5.31,0,0,0,4.9,4.9,5.31,5.31,0,0,0,6.5,1,5.31,5.31,0,0,0,8.1,4.9,5.31,5.31,0,0,0,12,6.5,5.46,5.46,0,0,0,6.5,12Z\"/>\n",
              "  </svg>\n",
              "    </button>\n",
              "    <script>\n",
              "      (() => {\n",
              "      const buttonEl =\n",
              "        document.querySelector('#id_40f6f658-1d92-46f3-bb75-1f237cbe9748 button.colab-df-generate');\n",
              "      buttonEl.style.display =\n",
              "        google.colab.kernel.accessAllowed ? 'block' : 'none';\n",
              "\n",
              "      buttonEl.onclick = () => {\n",
              "        google.colab.notebook.generateWithVariable('df');\n",
              "      }\n",
              "      })();\n",
              "    </script>\n",
              "  </div>\n",
              "\n",
              "    </div>\n",
              "  </div>\n"
            ],
            "application/vnd.google.colaboratory.intrinsic+json": {
              "type": "dataframe",
              "variable_name": "df",
              "summary": "{\n  \"name\": \"df\",\n  \"rows\": 450,\n  \"fields\": [\n    {\n      \"column\": \"Date\",\n      \"properties\": {\n        \"dtype\": \"category\",\n        \"num_unique_values\": 15,\n        \"samples\": [\n          \"10-04-2021\",\n          \"12-04-2021\",\n          \"01-04-2021\"\n        ],\n        \"semantic_type\": \"\",\n        \"description\": \"\"\n      }\n    },\n    {\n      \"column\": \"Day\",\n      \"properties\": {\n        \"dtype\": \"category\",\n        \"num_unique_values\": 7,\n        \"samples\": [\n          \"Thursday\",\n          \"Friday\",\n          \"Tuesday\"\n        ],\n        \"semantic_type\": \"\",\n        \"description\": \"\"\n      }\n    },\n    {\n      \"column\": \"SKU\",\n      \"properties\": {\n        \"dtype\": \"category\",\n        \"num_unique_values\": 30,\n        \"samples\": [\n          \"L08\",\n          \"F06\",\n          \"L04\"\n        ],\n        \"semantic_type\": \"\",\n        \"description\": \"\"\n      }\n    },\n    {\n      \"column\": \"City\",\n      \"properties\": {\n        \"dtype\": \"category\",\n        \"num_unique_values\": 1,\n        \"samples\": [\n          \"C\"\n        ],\n        \"semantic_type\": \"\",\n        \"description\": \"\"\n      }\n    },\n    {\n      \"column\": \"Volume\",\n      \"properties\": {\n        \"dtype\": \"number\",\n        \"std\": 4,\n        \"min\": 1,\n        \"max\": 31,\n        \"num_unique_values\": 22,\n        \"samples\": [\n          15\n        ],\n        \"semantic_type\": \"\",\n        \"description\": \"\"\n      }\n    },\n    {\n      \"column\": \"BU\",\n      \"properties\": {\n        \"dtype\": \"category\",\n        \"num_unique_values\": 3,\n        \"samples\": [\n          \"Mobiles\"\n        ],\n        \"semantic_type\": \"\",\n        \"description\": \"\"\n      }\n    },\n    {\n      \"column\": \"Brand\",\n      \"properties\": {\n        \"dtype\": \"category\",\n        \"num_unique_values\": 9,\n        \"samples\": [\n          \"Jeera\"\n        ],\n        \"semantic_type\": \"\",\n        \"description\": \"\"\n      }\n    },\n    {\n      \"column\": \"Model\",\n      \"properties\": {\n        \"dtype\": \"category\",\n        \"num_unique_values\": 30,\n        \"samples\": [\n          \"W-Lounge\"\n        ],\n        \"semantic_type\": \"\",\n        \"description\": \"\"\n      }\n    },\n    {\n      \"column\": \"Avg Price\",\n      \"properties\": {\n        \"dtype\": \"number\",\n        \"std\": 18079,\n        \"min\": 290,\n        \"max\": 60100,\n        \"num_unique_values\": 25,\n        \"samples\": [\n          60100\n        ],\n        \"semantic_type\": \"\",\n        \"description\": \"\"\n      }\n    },\n    {\n      \"column\": \"Total Sales Value\",\n      \"properties\": {\n        \"dtype\": \"number\",\n        \"std\": 50535,\n        \"min\": 400,\n        \"max\": 196400,\n        \"num_unique_values\": 135,\n        \"samples\": [\n          3000\n        ],\n        \"semantic_type\": \"\",\n        \"description\": \"\"\n      }\n    },\n    {\n      \"column\": \"Discount Rate (%)\",\n      \"properties\": {\n        \"dtype\": \"number\",\n        \"std\": 4.22060215332551,\n        \"min\": 5.007822189204133,\n        \"max\": 19.99240704193018,\n        \"num_unique_values\": 450,\n        \"samples\": [\n          18.99129131753696\n        ],\n        \"semantic_type\": \"\",\n        \"description\": \"\"\n      }\n    },\n    {\n      \"column\": \"Discount Amount\",\n      \"properties\": {\n        \"dtype\": \"number\",\n        \"std\": 4509.902963353998,\n        \"min\": 69.17794228822787,\n        \"max\": 25738.02219375868,\n        \"num_unique_values\": 450,\n        \"samples\": [\n          151.9303305402957\n        ],\n        \"semantic_type\": \"\",\n        \"description\": \"\"\n      }\n    },\n    {\n      \"column\": \"Net Sales Value\",\n      \"properties\": {\n        \"dtype\": \"number\",\n        \"std\": 46358.65662406695,\n        \"min\": 326.97480055470817,\n        \"max\": 179507.47904902254,\n        \"num_unique_values\": 450,\n        \"samples\": [\n          648.0696694597043\n        ],\n        \"semantic_type\": \"\",\n        \"description\": \"\"\n      }\n    }\n  ]\n}"
            }
          },
          "metadata": {},
          "execution_count": 4
        }
      ],
      "source": [
        "import pandas as pd\n",
        "import numpy as np\n",
        "from scipy import stats\n",
        "df=pd.read_csv(r'/content/sales_data_with_discounts.csv')\n",
        "df"
      ]
    },
    {
      "cell_type": "code",
      "source": [
        "df.info()"
      ],
      "metadata": {
        "colab": {
          "base_uri": "https://localhost:8080/"
        },
        "id": "Zn5xlrQF6o4x",
        "outputId": "77739764-0129-48ac-e531-328f6cf971f6"
      },
      "execution_count": 5,
      "outputs": [
        {
          "output_type": "stream",
          "name": "stdout",
          "text": [
            "<class 'pandas.core.frame.DataFrame'>\n",
            "RangeIndex: 450 entries, 0 to 449\n",
            "Data columns (total 13 columns):\n",
            " #   Column             Non-Null Count  Dtype  \n",
            "---  ------             --------------  -----  \n",
            " 0   Date               450 non-null    object \n",
            " 1   Day                450 non-null    object \n",
            " 2   SKU                450 non-null    object \n",
            " 3   City               450 non-null    object \n",
            " 4   Volume             450 non-null    int64  \n",
            " 5   BU                 450 non-null    object \n",
            " 6   Brand              450 non-null    object \n",
            " 7   Model              450 non-null    object \n",
            " 8   Avg Price          450 non-null    int64  \n",
            " 9   Total Sales Value  450 non-null    int64  \n",
            " 10  Discount Rate (%)  450 non-null    float64\n",
            " 11  Discount Amount    450 non-null    float64\n",
            " 12  Net Sales Value    450 non-null    float64\n",
            "dtypes: float64(3), int64(3), object(7)\n",
            "memory usage: 45.8+ KB\n"
          ]
        }
      ]
    },
    {
      "cell_type": "code",
      "source": [
        "df.shape,df.describe()"
      ],
      "metadata": {
        "colab": {
          "base_uri": "https://localhost:8080/"
        },
        "id": "PzENtL376uxq",
        "outputId": "1c70d818-a999-4ac5-d999-db29bf865f1a"
      },
      "execution_count": null,
      "outputs": [
        {
          "output_type": "execute_result",
          "data": {
            "text/plain": [
              "((450, 13),\n",
              "            Volume     Avg Price  Total Sales Value  Discount Rate (%)  \\\n",
              " count  450.000000    450.000000         450.000000         450.000000   \n",
              " mean     5.066667  10453.433333       33812.835556          15.155242   \n",
              " std      4.231602  18079.904840       50535.074173           4.220602   \n",
              " min      1.000000    290.000000         400.000000           5.007822   \n",
              " 25%      3.000000    465.000000        2700.000000          13.965063   \n",
              " 50%      4.000000   1450.000000        5700.000000          16.577766   \n",
              " 75%      6.000000  10100.000000       53200.000000          18.114718   \n",
              " max     31.000000  60100.000000      196400.000000          19.992407   \n",
              " \n",
              "        Discount Amount  Net Sales Value  \n",
              " count       450.000000       450.000000  \n",
              " mean       3346.499424     30466.336131  \n",
              " std        4509.902963     46358.656624  \n",
              " min          69.177942       326.974801  \n",
              " 25%         460.459304      2202.208645  \n",
              " 50%         988.933733      4677.788059  \n",
              " 75%        5316.495427     47847.912852  \n",
              " max       25738.022194    179507.479049  )"
            ]
          },
          "metadata": {},
          "execution_count": 4
        }
      ]
    },
    {
      "cell_type": "code",
      "source": [
        "#Identify Nemeric columns in dataframe\n",
        "numeric_columns = df.select_dtypes(include=np.number).columns\n",
        "#display numeric columns\n",
        "numeric_columns\n"
      ],
      "metadata": {
        "colab": {
          "base_uri": "https://localhost:8080/"
        },
        "id": "Twub3so27Fra",
        "outputId": "3b851549-ec30-453a-8dc1-485fa6e6ffb4"
      },
      "execution_count": 6,
      "outputs": [
        {
          "output_type": "execute_result",
          "data": {
            "text/plain": [
              "Index(['Volume', 'Avg Price', 'Total Sales Value', 'Discount Rate (%)',\n",
              "       'Discount Amount', 'Net Sales Value'],\n",
              "      dtype='object')"
            ]
          },
          "metadata": {},
          "execution_count": 6
        }
      ]
    },
    {
      "cell_type": "code",
      "source": [
        "print('Mean values of  Volume',np.mean(df['Volume']),'  Avg Price',np.mean(df['Avg Price']),'Total Sales Value',np.mean(df['Total Sales Value']))"
      ],
      "metadata": {
        "colab": {
          "base_uri": "https://localhost:8080/"
        },
        "id": "TSgwA-6M9u7o",
        "outputId": "eed2073e-ca34-4ce9-8567-def19d50d259"
      },
      "execution_count": 7,
      "outputs": [
        {
          "output_type": "stream",
          "name": "stdout",
          "text": [
            "Mean values of  Volume 5.066666666666666   Avg Price 10453.433333333332 Total Sales Value 33812.83555555555\n"
          ]
        }
      ]
    },
    {
      "cell_type": "code",
      "source": [
        "print('Mean values of  Discount Rate (%)',np.mean(df['Discount Rate (%)']),' Discount Amount',np.mean(df['Discount Amount']),'Net Sales Value',np.mean(df['Net Sales Value']))"
      ],
      "metadata": {
        "colab": {
          "base_uri": "https://localhost:8080/"
        },
        "id": "C6GQOQ3q-evH",
        "outputId": "04ab998f-0393-4de4-d8f4-87d3d970563b"
      },
      "execution_count": 14,
      "outputs": [
        {
          "output_type": "stream",
          "name": "stdout",
          "text": [
            "Mean values of  Discount Rate (%) 15.155241895330914  Discount Amount 3346.499424342415 Net Sales Value 30466.336131270138\n"
          ]
        }
      ]
    },
    {
      "cell_type": "markdown",
      "source": [
        "**Interpretation**:\n",
        "Mean of Net sales value  is 30466.336131270138 and  mean of Total Sales Value is 33812.83555555555, Mean of discount amount is  3346.499424342415.Therefore we interpret that Net Sales value,Total Sales Value are relatively more than discount amount which is good."
      ],
      "metadata": {
        "id": "uCQ4NVljZLhi"
      }
    },
    {
      "cell_type": "code",
      "source": [
        "print('Median values of  Volume',np.median(df['Volume']),'  Avg Price',np.median(df['Avg Price']),'Total Sales Value',np.median(df['Total Sales Value']))"
      ],
      "metadata": {
        "colab": {
          "base_uri": "https://localhost:8080/"
        },
        "id": "C_hvMVOB-9rL",
        "outputId": "6fe53f0f-8f27-4dc0-dd8c-9df449a86ef7"
      },
      "execution_count": 13,
      "outputs": [
        {
          "output_type": "stream",
          "name": "stdout",
          "text": [
            "Median values of  Volume 4.0   Avg Price 1450.0 Total Sales Value 5700.0\n"
          ]
        }
      ]
    },
    {
      "cell_type": "code",
      "source": [
        "print('Median values of  Discount Rate (%)',np.median(df['Discount Rate (%)']),'  Discount Amount',np.median(df['Discount Amount']),'Net Sales Value',np.median(df['Net Sales Value']))"
      ],
      "metadata": {
        "colab": {
          "base_uri": "https://localhost:8080/"
        },
        "id": "DuN924GIAKho",
        "outputId": "8136997a-3ea6-4217-c1ae-a07a60f972e7"
      },
      "execution_count": 12,
      "outputs": [
        {
          "output_type": "stream",
          "name": "stdout",
          "text": [
            "Median values of  Discount Rate (%) 16.57776564929597   Discount Amount 988.9337332382784 Net Sales Value 4677.788059301853\n"
          ]
        }
      ]
    },
    {
      "cell_type": "code",
      "source": [
        "print('Mode values of  Volume',stats.mode(df['Volume']),'  Avg Price',stats.mode(df['Avg Price']),'Total Sales Value',stats.mode(df['Total Sales Value']))"
      ],
      "metadata": {
        "colab": {
          "base_uri": "https://localhost:8080/"
        },
        "id": "8jKLO0YgAlWO",
        "outputId": "5064175e-f889-4c29-a9db-6356fb2b1670"
      },
      "execution_count": 11,
      "outputs": [
        {
          "output_type": "stream",
          "name": "stdout",
          "text": [
            "Mode values of  Volume ModeResult(mode=3, count=110)   Avg Price ModeResult(mode=400, count=30) Total Sales Value ModeResult(mode=24300, count=14)\n"
          ]
        }
      ]
    },
    {
      "cell_type": "code",
      "source": [
        "print('Mode values of  Discount Rate (%)',stats.mode(df['Discount Rate (%)']),'  Discount Amount',stats.mode(df['Discount Amount']),'Net Sales Value',stats.mode(df['Net Sales Value']))"
      ],
      "metadata": {
        "colab": {
          "base_uri": "https://localhost:8080/"
        },
        "id": "mhQ5PQGqBEMT",
        "outputId": "57194f25-bd4b-4dad-c854-ec6333cf27bb"
      },
      "execution_count": 10,
      "outputs": [
        {
          "output_type": "stream",
          "name": "stdout",
          "text": [
            "Mode values of  Discount Rate (%) ModeResult(mode=5.007822189204133, count=1)   Discount Amount ModeResult(mode=69.17794228822787, count=1) Net Sales Value ModeResult(mode=326.97480055470817, count=1)\n"
          ]
        }
      ]
    },
    {
      "cell_type": "markdown",
      "source": [
        "Interpretation:\n",
        "Mode of Discount rate (%) is 5.007%,The mode of 5% discount indicates that the range from 0% to 20% shows flexibility in discounting strategies"
      ],
      "metadata": {
        "id": "O1WYoJn0aaiP"
      }
    },
    {
      "cell_type": "code",
      "source": [
        "print('Standard deviation values of  Volume',np.std(df['Volume']),'  Avg Price',np.std(df['Avg Price']),'Total Sales Value',np.std(df['Total Sales Value']))"
      ],
      "metadata": {
        "colab": {
          "base_uri": "https://localhost:8080/"
        },
        "id": "iN8PfnJ8CsU1",
        "outputId": "70d6e326-2483-4df1-a3b6-6721851e8367"
      },
      "execution_count": 9,
      "outputs": [
        {
          "output_type": "stream",
          "name": "stdout",
          "text": [
            "Standard deviation values of  Volume 4.226897995772629   Avg Price 18059.804883928166 Total Sales Value 50478.892860940316\n"
          ]
        }
      ]
    },
    {
      "cell_type": "code",
      "source": [
        "print('Standard deviation values of  Discount Rate (%)',np.std(df['Discount Rate (%)']),'  Discount Amount',np.std(df['Discount Amount']),'Net Sales Value',np.std(df['Net Sales Value']))"
      ],
      "metadata": {
        "colab": {
          "base_uri": "https://localhost:8080/"
        },
        "id": "AXXwYS5HC6Qc",
        "outputId": "39df692a-a5df-4db3-f52e-2a5add865a48"
      },
      "execution_count": 8,
      "outputs": [
        {
          "output_type": "stream",
          "name": "stdout",
          "text": [
            "Standard deviation values of  Discount Rate (%) 4.215909987168583   Discount Amount 4504.889173073149 Net Sales Value 46307.118357300766\n"
          ]
        }
      ]
    },
    {
      "cell_type": "markdown",
      "source": [
        "**Interpretation**: A standard deviation of Avg Price 18059.804883928166 Total Sales Value 50478.892860940316, Net Sales Value 46307.118357300766 indicates there is variability in Total Sales Value, Net Sales Value potentially influenced by customer preferences or seasonal trends.\n",
        "\n",
        "By applying descriptive analytics to numerical columns in a sales and discount dataset, businesses can gain actionable insights to optimize pricing, improve promotional strategies, and enhance overall performance. These insights form the basis for informed decision-making and strategic planning in sales management.\n",
        "In summary, interpreting mean, median, mode, and standard deviation in sales data provides a comprehensive view of sales performance, aiding businesses in understanding central tendencies, variability, and distribution patterns crucial for strategic planning and decision-making."
      ],
      "metadata": {
        "id": "tMSWo-2ubO3_"
      }
    }
  ]
}