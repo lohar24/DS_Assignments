{
  "nbformat": 4,
  "nbformat_minor": 0,
  "metadata": {
    "colab": {
      "provenance": []
    },
    "kernelspec": {
      "name": "python3",
      "display_name": "Python 3"
    },
    "language_info": {
      "name": "python"
    }
  },
  "cells": [
    {
      "cell_type": "code",
      "execution_count": null,
      "metadata": {
        "colab": {
          "base_uri": "https://localhost:8080/"
        },
        "id": "8lPUPpcgOTM1",
        "outputId": "b871e2a0-4c90-429d-d0b5-92a1521c883b"
      },
      "outputs": [
        {
          "output_type": "stream",
          "name": "stdout",
          "text": [
            "1.2386666666666666\n",
            "0.19316412956959933\n",
            "99% confidence interval is 1.090197338451367 1.3871359948819662\n"
          ]
        }
      ],
      "source": [
        "# 99% confidence interval using standard deviation of given sample 1.13,1.55,1.43,0.92,1.25,1.36,1.32,0.85,1.07,1.48,1.20,1.33,1.18,1.22,1.29\n",
        "# Steps\n",
        "# Calculate the mean (x̄) and sample standard deviation (s) from sample data.\n",
        "# Determine the sample size (n).\n",
        "# Find the critical value (t) corresponding to the desired confidence level (99%) and the degrees of freedom (n-1)\n",
        "# Calculate margin-of_error using t*stddev/Squareroot of n\n",
        "# Calculate lower and upper bound using mean-margin_of_error\n",
        "\n",
        "import scipy.stats as stats\n",
        "import math\n",
        "import statistics as statistics\n",
        "\n",
        "def confidence_interval(data,confidence=0.99):\n",
        "  n=len(data)\n",
        "  mean= sum(data)/n\n",
        "  print(mean)\n",
        "  stdDev=statistics.stdev(data)\n",
        "  print(stdDev)\n",
        "  # Calculate t_critical using degrees of freedom as n-1\n",
        "  t_critical=stats.t.ppf((1+confidence)/2,n-1)\n",
        "\n",
        "  # Calculate margin-of_error using t*stddev/Squareroot of n\n",
        "  margin_of_error=t_critical*(stdDev/math.sqrt(n))\n",
        "\n",
        "   # Calculate lower and upper bound using mean-margin_of_error\n",
        "  lower_bound=mean-margin_of_error\n",
        "  upper_bound=mean+margin_of_error\n",
        "  return lower_bound,upper_bound\n",
        "\n",
        "SampleData=[1.13,1.55,1.43,0.92,1.25,1.36,1.32,0.85,1.07,1.48,1.20,1.33,1.18,1.22,1.29]\n",
        "x,y=confidence_interval(SampleData,confidence=0.99)\n",
        "print(\"99% confidence interval is\",x,y)"
      ]
    },
    {
      "cell_type": "code",
      "source": [
        "#99% confidence interval using standard deviation of population as 0.2 million characters\n",
        "#Steps\n",
        "#Sample mean,sample size,populationStdDev\n",
        "#Compute z_critical\n",
        "#Compute Margin of Error z*sigma/squareroot of n\n",
        "#lower_bound=sample_mean-margin_of_error\n",
        "#upper_bound=sample_mean+margin_of_error\n",
        "\n",
        "import scipy.stats as stats\n",
        "import math\n",
        "import statistics as statistics\n",
        "\n",
        "#Given Population Std as 0.2 million\n",
        "populationStdDev=0.2\n",
        "\n",
        "#Sample mean,sample size calculated in above code\n",
        "sample_mean=1.24\n",
        "sample_size=15\n",
        "confidence_level = 0.99 #confidence interval 99%\n",
        "\n",
        "#Compute z_critical\n",
        "z_critical = stats.norm.ppf((1 + confidence_level) / 2)\n",
        "\n",
        "#Compute Margin of Error z*sigma/squareroot of n\n",
        "margin_of_error=z_critical*(populationStdDev/math.sqrt(sample_size))\n",
        "lower_bound=sample_mean-margin_of_error\n",
        "upper_bound=sample_mean+margin_of_error\n",
        "print(f\"99% confidence interval is ({lower_bound},{upper_bound})\")"
      ],
      "metadata": {
        "colab": {
          "base_uri": "https://localhost:8080/"
        },
        "id": "vSQWPyn0UzhD",
        "outputId": "73f46a80-9c71-43e6-e7b8-ad309774a5cd"
      },
      "execution_count": null,
      "outputs": [
        {
          "output_type": "stream",
          "name": "stdout",
          "text": [
            "99% confidence interval is (1.106984746729094,1.373015253270906)\n"
          ]
        }
      ]
    }
  ]
}