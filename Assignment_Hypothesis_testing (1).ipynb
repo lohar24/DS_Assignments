{
  "nbformat": 4,
  "nbformat_minor": 0,
  "metadata": {
    "colab": {
      "provenance": []
    },
    "kernelspec": {
      "name": "python3",
      "display_name": "Python 3"
    },
    "language_info": {
      "name": "python"
    }
  },
  "cells": [
    {
      "cell_type": "code",
      "execution_count": 23,
      "metadata": {
        "colab": {
          "base_uri": "https://localhost:8080/"
        },
        "id": "KC6NAonHZ4Ky",
        "outputId": "e8f71fff-c8f5-4046-ec25-2da4fd4df629"
      },
      "outputs": [
        {
          "output_type": "stream",
          "name": "stdout",
          "text": [
            "-38.0\n"
          ]
        }
      ],
      "source": [
        "import numpy as np\n",
        "import scipy.stats as stats\n",
        "from scipy.stats import norm\n",
        "\n",
        "#NUll hypothesis:the current cost model accurately represents the weekly operating costs.\n",
        "# Sample data and parameters\n",
        "sample_mean = 3050  # Sample mean\n",
        "population_mean = 4000  # Population mean 4000$\n",
        "population_stddev = 125 # Population standard deviation\n",
        "n = 25  # Sample size\n",
        "\n",
        "# Calculate the test statistic\n",
        "t_statistic = (sample_mean - population_mean) / (population_stddev / np.sqrt(n))\n",
        "\n",
        "# Significance level (alpha)\n",
        "alpha = 0.05\n",
        "print(t_statistic)\n"
      ]
    },
    {
      "cell_type": "code",
      "source": [
        "# Find degree of freedom df df=n-1\n",
        "df=25-1\n",
        "print('df is',df)\n",
        "#For df=24, as it is less than 30 the critical_value from t distribution table for one tailed test is approximately 1.711\n",
        "# Find the critical value using one-tailed test\n",
        "t_critical = stats.t.ppf(1 - alpha, df)\n",
        "print(t_critical)\n",
        "print(np.abs(t_statistic))\n",
        "\n",
        ""
      ],
      "metadata": {
        "colab": {
          "base_uri": "https://localhost:8080/"
        },
        "id": "SVDHHq2G-5Xo",
        "outputId": "f1c27363-9134-4cf0-c396-083402bfa695"
      },
      "execution_count": 24,
      "outputs": [
        {
          "output_type": "stream",
          "name": "stdout",
          "text": [
            "df is 24\n",
            "1.7108820799094275\n",
            "38.0\n"
          ]
        }
      ]
    },
    {
      "cell_type": "code",
      "source": [
        "# Compare the test statistic and critical value\n",
        "if np.abs(t_statistic) > t_critical:\n",
        "    print(\"Reject the null hypothesis\")\n",
        "    print(\"The current cost model doesnot represent the weekly operating costs\")\n",
        "    print(\"Hence we accept that weekly operating costs are different\")\n",
        "    # Hence we accept that weekly operating costs are different/higher.\n",
        "\n",
        "else:\n",
        "    print(\"Fail to reject the null hypothesis\")\n",
        "    print(\"The current cost model represents the weekly operating costs\")\n"
      ],
      "metadata": {
        "colab": {
          "base_uri": "https://localhost:8080/"
        },
        "id": "WI7iP3wmAWdz",
        "outputId": "af6a0c19-bcc3-4c12-e9c1-a20c590e85c6"
      },
      "execution_count": 25,
      "outputs": [
        {
          "output_type": "stream",
          "name": "stdout",
          "text": [
            "Reject the null hypothesis\n",
            "The current cost model doesnot represent the weekly operating costs\n",
            "Hence we accept that weekly operating costs are different\n"
          ]
        }
      ]
    }
  ]
}