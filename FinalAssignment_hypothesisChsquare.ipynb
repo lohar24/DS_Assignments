{
  "nbformat": 4,
  "nbformat_minor": 0,
  "metadata": {
    "colab": {
      "provenance": []
    },
    "kernelspec": {
      "name": "python3",
      "display_name": "Python 3"
    },
    "language_info": {
      "name": "python"
    }
  },
  "cells": [
    {
      "cell_type": "code",
      "execution_count": null,
      "metadata": {
        "colab": {
          "base_uri": "https://localhost:8080/"
        },
        "id": "Olv4w84VUDVX",
        "outputId": "6c9dd560-931a-433d-dcca-64cd4d113c26"
      },
      "outputs": [
        {
          "output_type": "stream",
          "name": "stdout",
          "text": [
            "chi-square statistic: 5.638227513227513\n",
            "critical_value: 9.487729036781154\n",
            "Fail to reject the null hypothesis: There is no significant association between type of devices purchased  and customer satisfaction levels.\n"
          ]
        }
      ],
      "source": [
        "#Steps\n",
        "# step 1 = Null hypothesis-There is no association between home device and satisfaction level of customer\n",
        "# Step 2 = Compute Chi-square statistic using ch2_contigency function\n",
        "# Step3 = Determine critical value\n",
        "# step4 = Make a decision based on alpha :reject/accept null hypothesis\n",
        "\n",
        "from scipy.stats import chi2_contingency, chi2\n",
        "\n",
        "# Sample data representing type of devices purchased and customer satisfaction\n",
        "\n",
        "data = [[50, 70],[80, 100],[60,90],[30,50],[20,50]]\n",
        "# Perform chi-square test\n",
        "chi2_stat, p_val, dof, expected = chi2_contingency(data)\n",
        "\n",
        "# Degrees of freedom for the Chi-square test\n",
        "rows = len(data)\n",
        "cols = len(data[0])\n",
        "df = (rows - 1) * (cols - 1)\n",
        "\n",
        "# Significance level (alpha)\n",
        "alpha = 0.05\n",
        "print('chi-square statistic:',chi2_stat)\n",
        "# Calculate critical value\n",
        "critical_value = chi2.ppf(1 - alpha, df)\n",
        "print('critical_value:',critical_value)\n",
        "# Compare Chi-square statistic with critical value\n",
        "if chi2_stat > critical_value:\n",
        "    print(\"Reject the null hypothesis: There is a significant association between type of devices purchased  and customer satisfaction levels.\")\n",
        "else:\n",
        "    print(\"Fail to reject the null hypothesis: There is no significant association between type of devices purchased  and customer satisfaction levels.\")"
      ]
    }
  ]
}