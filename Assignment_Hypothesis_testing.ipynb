{
  "nbformat": 4,
  "nbformat_minor": 0,
  "metadata": {
    "colab": {
      "provenance": []
    },
    "kernelspec": {
      "name": "python3",
      "display_name": "Python 3"
    },
    "language_info": {
      "name": "python"
    }
  },
  "cells": [
    {
      "cell_type": "code",
      "execution_count": null,
      "metadata": {
        "colab": {
          "base_uri": "https://localhost:8080/"
        },
        "id": "KC6NAonHZ4Ky",
        "outputId": "5ecd055a-981b-4b64-b884-04e7ef9d0ca5"
      },
      "outputs": [
        {
          "output_type": "stream",
          "name": "stdout",
          "text": [
            "Reject the null hypothesis\n"
          ]
        }
      ],
      "source": [
        "import numpy as np\n",
        "from scipy.stats import norm\n",
        "\n",
        "#NUll hypothesis:there is no diffenece between sample mean and population mean\n",
        "# Sample data and parameters\n",
        "sample_mean = 3050  # Sample mean\n",
        "population_mean = 332000  # Population mean 4000$\n",
        "population_stddev = 125 # Population standard deviation\n",
        "n = 25  # Sample size\n",
        "\n",
        "# Calculate the Z-test statistic\n",
        "z_statistic = (sample_mean - population_mean) / (population_stddev / np.sqrt(n))\n",
        "\n",
        "# Significance level (alpha)\n",
        "alpha = 0.05\n",
        "\n",
        "# Find the critical value\n",
        "critical_value = norm.ppf(1 - alpha / 2)  # Two-tailed test\n",
        "\n",
        "# Compare the test statistic and critical value\n",
        "if np.abs(z_statistic) > critical_value:\n",
        "    print(\"Reject the null hypothesis\")\n",
        "else:\n",
        "    print(\"Fail to reject the null hypothesis\")\n",
        "\n",
        "    # based on result we accept that there is difference between population mean and sample mean and hence the cost increasing weekly claim of owner is right"
      ]
    }
  ]
}